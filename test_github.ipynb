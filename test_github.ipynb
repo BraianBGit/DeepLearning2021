{
  "nbformat": 4,
  "nbformat_minor": 0,
  "metadata": {
    "colab": {
      "name": "test-github.ipynb",
      "provenance": [],
      "authorship_tag": "ABX9TyML3Mj8Qa4mlJ+H4AmVyzgo",
      "include_colab_link": true
    },
    "kernelspec": {
      "name": "python3",
      "display_name": "Python 3"
    },
    "language_info": {
      "name": "python"
    }
  },
  "cells": [
    {
      "cell_type": "markdown",
      "metadata": {
        "id": "view-in-github",
        "colab_type": "text"
      },
      "source": [
        "<a href=\"https://colab.research.google.com/github/BraianBGit/DeepLearning2021/blob/main/test_github.ipynb\" target=\"_parent\"><img src=\"https://colab.research.google.com/assets/colab-badge.svg\" alt=\"Open In Colab\"/></a>"
      ]
    },
    {
      "cell_type": "code",
      "metadata": {
        "id": "uAQb0XDnp0Jy"
      },
      "source": [
        "print(\"Testing github with colab\")"
      ],
      "execution_count": null,
      "outputs": []
    }
  ]
}